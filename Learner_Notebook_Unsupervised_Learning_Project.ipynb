{
 "cells": [
  {
   "cell_type": "markdown",
   "metadata": {
    "id": "tIOusyeT4_RJ"
   },
   "source": [
    "## Project: Unsupervised Learning\n",
    "----------------------------------------\n",
    "**Marks: 30**\n",
    "-----------------------------------------\n",
    "\n",
    "Welcome to the project on Unsupervised Learning. We will be using the Credit Card Customer Data for this project.\n",
    "\n",
    "----------------------------\n",
    "## Context: \n",
    "-----------------------------\n",
    "AllLife Bank wants to focus on its credit card customer base in the next financial year. They have been advised by their marketing research team, that the penetration in the market can be improved. Based on this input, the Marketing team proposes to run personalized campaigns to target new customers as well as upsell to existing customers. Another insight from the market research was that the customers perceive the support services of the back poorly. Based on this, the Operations team wants to upgrade the service delivery model, to ensure that customers queries are resolved faster. Head of Marketing and Head of Delivery both decide to reach out to the Data Science team for help.\n",
    "\n",
    "\n",
    "----------------------------\n",
    "## Objective: \n",
    "-----------------------------\n",
    "\n",
    "Identify different segments in the existing customer based on their spending patterns as well as past interaction with the bank.\n",
    "\n",
    "--------------------------\n",
    "## About the data:\n",
    "--------------------------\n",
    "Data is of various customers of a bank with their credit limit, the total number of credit cards the customer has, and different channels through which customer has contacted the bank for any queries, different channels include visiting the bank, online and through a call centre.\n",
    "\n",
    "- Sl_no - Customer Serial Number\n",
    "- Customer Key - Customer identification\n",
    "- Avg_Credit_Limit\t- Average credit limit (currency is not specified, you can make an assumption around this)\n",
    "- Total_Credit_Cards\t- Total number of credit cards \n",
    "- Total_visits_bank\t- Total bank visits\n",
    "- Total_visits_online -\t Total online visits\n",
    "- Total_calls_made - Total calls made"
   ]
  },
  {
   "cell_type": "markdown",
   "metadata": {
    "id": "0ReVFSgtvvO6"
   },
   "source": [
    "## Importing libraries and overview of the dataset"
   ]
  },
  {
   "cell_type": "code",
   "execution_count": 20,
   "metadata": {
    "id": "KJKn2dkPKnkU"
   },
   "outputs": [],
   "source": [
    "#Import all the necessary packages\n",
    "\n",
    "import pandas as pd\n",
    "import numpy as np\n",
    "\n",
    "import matplotlib.pylab as plt\n",
    "import seaborn as sns\n",
    "\n",
    "#to scale the data using z-score \n",
    "from sklearn.preprocessing import StandardScaler\n",
    "\n",
    "#importing clustering algorithms\n",
    "from sklearn.cluster import KMeans\n",
    "from sklearn.mixture import GaussianMixture\n",
    "\n",
    "\n",
    "#if the below line of code gives an error, then uncomment the following code to install the sklearn_extra library\n",
    "#!pip install scikit-learn-extra\n",
    "from sklearn_extra.cluster import KMedoids\n",
    "\n",
    "import warnings\n",
    "warnings.filterwarnings(\"ignore\")"
   ]
  },
  {
   "cell_type": "markdown",
   "metadata": {
    "id": "9qEgcn2XvvO8"
   },
   "source": [
    "#### Loading data"
   ]
  },
  {
   "cell_type": "code",
   "execution_count": 21,
   "metadata": {
    "colab": {
     "base_uri": "https://localhost:8080/",
     "height": 137
    },
    "id": "p4QVUUO3VHHH",
    "outputId": "6bd7504e-4281-41ca-f508-5a61927e94b1"
   },
   "outputs": [
    {
     "data": {
      "text/html": [
       "<div>\n",
       "<style scoped>\n",
       "    .dataframe tbody tr th:only-of-type {\n",
       "        vertical-align: middle;\n",
       "    }\n",
       "\n",
       "    .dataframe tbody tr th {\n",
       "        vertical-align: top;\n",
       "    }\n",
       "\n",
       "    .dataframe thead th {\n",
       "        text-align: right;\n",
       "    }\n",
       "</style>\n",
       "<table border=\"1\" class=\"dataframe\">\n",
       "  <thead>\n",
       "    <tr style=\"text-align: right;\">\n",
       "      <th></th>\n",
       "      <th>Sl_No</th>\n",
       "      <th>Customer Key</th>\n",
       "      <th>Avg_Credit_Limit</th>\n",
       "      <th>Total_Credit_Cards</th>\n",
       "      <th>Total_visits_bank</th>\n",
       "      <th>Total_visits_online</th>\n",
       "      <th>Total_calls_made</th>\n",
       "    </tr>\n",
       "  </thead>\n",
       "  <tbody>\n",
       "    <tr>\n",
       "      <th>0</th>\n",
       "      <td>1</td>\n",
       "      <td>87073</td>\n",
       "      <td>100000</td>\n",
       "      <td>2</td>\n",
       "      <td>1</td>\n",
       "      <td>1</td>\n",
       "      <td>0</td>\n",
       "    </tr>\n",
       "    <tr>\n",
       "      <th>1</th>\n",
       "      <td>2</td>\n",
       "      <td>38414</td>\n",
       "      <td>50000</td>\n",
       "      <td>3</td>\n",
       "      <td>0</td>\n",
       "      <td>10</td>\n",
       "      <td>9</td>\n",
       "    </tr>\n",
       "    <tr>\n",
       "      <th>2</th>\n",
       "      <td>3</td>\n",
       "      <td>17341</td>\n",
       "      <td>50000</td>\n",
       "      <td>7</td>\n",
       "      <td>1</td>\n",
       "      <td>3</td>\n",
       "      <td>4</td>\n",
       "    </tr>\n",
       "    <tr>\n",
       "      <th>3</th>\n",
       "      <td>4</td>\n",
       "      <td>40496</td>\n",
       "      <td>30000</td>\n",
       "      <td>5</td>\n",
       "      <td>1</td>\n",
       "      <td>1</td>\n",
       "      <td>4</td>\n",
       "    </tr>\n",
       "    <tr>\n",
       "      <th>4</th>\n",
       "      <td>5</td>\n",
       "      <td>47437</td>\n",
       "      <td>100000</td>\n",
       "      <td>6</td>\n",
       "      <td>0</td>\n",
       "      <td>12</td>\n",
       "      <td>3</td>\n",
       "    </tr>\n",
       "  </tbody>\n",
       "</table>\n",
       "</div>"
      ],
      "text/plain": [
       "   Sl_No  Customer Key  Avg_Credit_Limit  Total_Credit_Cards  \\\n",
       "0      1         87073            100000                   2   \n",
       "1      2         38414             50000                   3   \n",
       "2      3         17341             50000                   7   \n",
       "3      4         40496             30000                   5   \n",
       "4      5         47437            100000                   6   \n",
       "\n",
       "   Total_visits_bank  Total_visits_online  Total_calls_made  \n",
       "0                  1                    1                 0  \n",
       "1                  0                   10                 9  \n",
       "2                  1                    3                 4  \n",
       "3                  1                    1                 4  \n",
       "4                  0                   12                 3  "
      ]
     },
     "execution_count": 21,
     "metadata": {},
     "output_type": "execute_result"
    }
   ],
   "source": [
    "data = pd.read_excel('Credit Card Customer Data.xlsx')\n",
    "data.head()"
   ]
  },
  {
   "cell_type": "markdown",
   "metadata": {
    "id": "ZmxlhPKovvO-"
   },
   "source": [
    "#### Check the info of the data"
   ]
  },
  {
   "cell_type": "code",
   "execution_count": 22,
   "metadata": {
    "id": "dtroAFl9vvO-",
    "outputId": "bff20f83-1d85-488e-e1dc-e73c56f563a6"
   },
   "outputs": [
    {
     "name": "stdout",
     "output_type": "stream",
     "text": [
      "<class 'pandas.core.frame.DataFrame'>\n",
      "RangeIndex: 660 entries, 0 to 659\n",
      "Data columns (total 7 columns):\n",
      " #   Column               Non-Null Count  Dtype\n",
      "---  ------               --------------  -----\n",
      " 0   Sl_No                660 non-null    int64\n",
      " 1   Customer Key         660 non-null    int64\n",
      " 2   Avg_Credit_Limit     660 non-null    int64\n",
      " 3   Total_Credit_Cards   660 non-null    int64\n",
      " 4   Total_visits_bank    660 non-null    int64\n",
      " 5   Total_visits_online  660 non-null    int64\n",
      " 6   Total_calls_made     660 non-null    int64\n",
      "dtypes: int64(7)\n",
      "memory usage: 36.2 KB\n"
     ]
    }
   ],
   "source": [
    "data.info()"
   ]
  },
  {
   "cell_type": "markdown",
   "metadata": {
    "id": "EPP73jY5vvPA"
   },
   "source": [
    "**Observations:**\n",
    "\n",
    "- There are 660 observations and 7 columns in the dataset.\n",
    "- All columns have 660 non-null values i.e. there are no missing values.\n",
    "- All columns are of int64 data type."
   ]
  },
  {
   "cell_type": "markdown",
   "metadata": {
    "id": "DOP-MnWovvPA"
   },
   "source": [
    "**There are no missing values. Let us now figure out the uniques in each column.** "
   ]
  },
  {
   "cell_type": "code",
   "execution_count": 26,
   "metadata": {
    "id": "OCRC8zfDvvPB",
    "outputId": "ad647d25-ef4e-48fa-9f7e-6f1916668f0e"
   },
   "outputs": [
    {
     "data": {
      "text/plain": [
       "Sl_No                  660\n",
       "Customer Key           655\n",
       "Avg_Credit_Limit       110\n",
       "Total_Credit_Cards      10\n",
       "Total_visits_bank        6\n",
       "Total_visits_online     16\n",
       "Total_calls_made        11\n",
       "dtype: int64"
      ]
     },
     "execution_count": 26,
     "metadata": {},
     "output_type": "execute_result"
    }
   ],
   "source": [
    "data.nunique()"
   ]
  },
  {
   "cell_type": "markdown",
   "metadata": {
    "id": "JjjUYpvovvPC"
   },
   "source": [
    "- Customer key, which is an identifier, has repeated values. We should treat the same accordingly before applying any algorithm."
   ]
  },
  {
   "cell_type": "markdown",
   "metadata": {
    "id": "fpZolGOdvvPC"
   },
   "source": [
    "## Data Preprocessing and Exploratory Data Analysis"
   ]
  },
  {
   "cell_type": "markdown",
   "metadata": {
    "id": "L6bb-Fs0vvPD"
   },
   "source": [
    "#### **Question 1: Identify and drop the rows with duplicated customer keys (2 Marks)**"
   ]
  },
  {
   "cell_type": "code",
   "execution_count": 27,
   "metadata": {
    "id": "bWj8abFqvvPD"
   },
   "outputs": [
    {
     "data": {
      "text/html": [
       "<div>\n",
       "<style scoped>\n",
       "    .dataframe tbody tr th:only-of-type {\n",
       "        vertical-align: middle;\n",
       "    }\n",
       "\n",
       "    .dataframe tbody tr th {\n",
       "        vertical-align: top;\n",
       "    }\n",
       "\n",
       "    .dataframe thead th {\n",
       "        text-align: right;\n",
       "    }\n",
       "</style>\n",
       "<table border=\"1\" class=\"dataframe\">\n",
       "  <thead>\n",
       "    <tr style=\"text-align: right;\">\n",
       "      <th></th>\n",
       "      <th>Sl_No</th>\n",
       "      <th>Customer Key</th>\n",
       "      <th>Avg_Credit_Limit</th>\n",
       "      <th>Total_Credit_Cards</th>\n",
       "      <th>Total_visits_bank</th>\n",
       "      <th>Total_visits_online</th>\n",
       "      <th>Total_calls_made</th>\n",
       "    </tr>\n",
       "  </thead>\n",
       "  <tbody>\n",
       "  </tbody>\n",
       "</table>\n",
       "</div>"
      ],
      "text/plain": [
       "Empty DataFrame\n",
       "Columns: [Sl_No, Customer Key, Avg_Credit_Limit, Total_Credit_Cards, Total_visits_bank, Total_visits_online, Total_calls_made]\n",
       "Index: []"
      ]
     },
     "execution_count": 27,
     "metadata": {},
     "output_type": "execute_result"
    }
   ],
   "source": [
    "# Identify the duplicated customer keys\n",
    "duplicate_keys = data[data.duplicated()] \n",
    "duplicate_keys"
   ]
  },
  {
   "cell_type": "code",
   "execution_count": 33,
   "metadata": {
    "id": "WeUihO0KvvPF"
   },
   "outputs": [
    {
     "data": {
      "text/html": [
       "<div>\n",
       "<style scoped>\n",
       "    .dataframe tbody tr th:only-of-type {\n",
       "        vertical-align: middle;\n",
       "    }\n",
       "\n",
       "    .dataframe tbody tr th {\n",
       "        vertical-align: top;\n",
       "    }\n",
       "\n",
       "    .dataframe thead th {\n",
       "        text-align: right;\n",
       "    }\n",
       "</style>\n",
       "<table border=\"1\" class=\"dataframe\">\n",
       "  <thead>\n",
       "    <tr style=\"text-align: right;\">\n",
       "      <th></th>\n",
       "      <th>Sl_No</th>\n",
       "      <th>Customer Key</th>\n",
       "      <th>Avg_Credit_Limit</th>\n",
       "      <th>Total_Credit_Cards</th>\n",
       "      <th>Total_visits_bank</th>\n",
       "      <th>Total_visits_online</th>\n",
       "      <th>Total_calls_made</th>\n",
       "    </tr>\n",
       "  </thead>\n",
       "  <tbody>\n",
       "    <tr>\n",
       "      <th>0</th>\n",
       "      <td>1</td>\n",
       "      <td>87073</td>\n",
       "      <td>100000</td>\n",
       "      <td>2</td>\n",
       "      <td>1</td>\n",
       "      <td>1</td>\n",
       "      <td>0</td>\n",
       "    </tr>\n",
       "    <tr>\n",
       "      <th>1</th>\n",
       "      <td>2</td>\n",
       "      <td>38414</td>\n",
       "      <td>50000</td>\n",
       "      <td>3</td>\n",
       "      <td>0</td>\n",
       "      <td>10</td>\n",
       "      <td>9</td>\n",
       "    </tr>\n",
       "    <tr>\n",
       "      <th>2</th>\n",
       "      <td>3</td>\n",
       "      <td>17341</td>\n",
       "      <td>50000</td>\n",
       "      <td>7</td>\n",
       "      <td>1</td>\n",
       "      <td>3</td>\n",
       "      <td>4</td>\n",
       "    </tr>\n",
       "    <tr>\n",
       "      <th>3</th>\n",
       "      <td>4</td>\n",
       "      <td>40496</td>\n",
       "      <td>30000</td>\n",
       "      <td>5</td>\n",
       "      <td>1</td>\n",
       "      <td>1</td>\n",
       "      <td>4</td>\n",
       "    </tr>\n",
       "    <tr>\n",
       "      <th>4</th>\n",
       "      <td>5</td>\n",
       "      <td>47437</td>\n",
       "      <td>100000</td>\n",
       "      <td>6</td>\n",
       "      <td>0</td>\n",
       "      <td>12</td>\n",
       "      <td>3</td>\n",
       "    </tr>\n",
       "    <tr>\n",
       "      <th>...</th>\n",
       "      <td>...</td>\n",
       "      <td>...</td>\n",
       "      <td>...</td>\n",
       "      <td>...</td>\n",
       "      <td>...</td>\n",
       "      <td>...</td>\n",
       "      <td>...</td>\n",
       "    </tr>\n",
       "    <tr>\n",
       "      <th>655</th>\n",
       "      <td>656</td>\n",
       "      <td>51108</td>\n",
       "      <td>99000</td>\n",
       "      <td>10</td>\n",
       "      <td>1</td>\n",
       "      <td>10</td>\n",
       "      <td>0</td>\n",
       "    </tr>\n",
       "    <tr>\n",
       "      <th>656</th>\n",
       "      <td>657</td>\n",
       "      <td>60732</td>\n",
       "      <td>84000</td>\n",
       "      <td>10</td>\n",
       "      <td>1</td>\n",
       "      <td>13</td>\n",
       "      <td>2</td>\n",
       "    </tr>\n",
       "    <tr>\n",
       "      <th>657</th>\n",
       "      <td>658</td>\n",
       "      <td>53834</td>\n",
       "      <td>145000</td>\n",
       "      <td>8</td>\n",
       "      <td>1</td>\n",
       "      <td>9</td>\n",
       "      <td>1</td>\n",
       "    </tr>\n",
       "    <tr>\n",
       "      <th>658</th>\n",
       "      <td>659</td>\n",
       "      <td>80655</td>\n",
       "      <td>172000</td>\n",
       "      <td>10</td>\n",
       "      <td>1</td>\n",
       "      <td>15</td>\n",
       "      <td>0</td>\n",
       "    </tr>\n",
       "    <tr>\n",
       "      <th>659</th>\n",
       "      <td>660</td>\n",
       "      <td>80150</td>\n",
       "      <td>167000</td>\n",
       "      <td>9</td>\n",
       "      <td>0</td>\n",
       "      <td>12</td>\n",
       "      <td>2</td>\n",
       "    </tr>\n",
       "  </tbody>\n",
       "</table>\n",
       "<p>660 rows × 7 columns</p>\n",
       "</div>"
      ],
      "text/plain": [
       "     Sl_No  Customer Key  Avg_Credit_Limit  Total_Credit_Cards  \\\n",
       "0        1         87073            100000                   2   \n",
       "1        2         38414             50000                   3   \n",
       "2        3         17341             50000                   7   \n",
       "3        4         40496             30000                   5   \n",
       "4        5         47437            100000                   6   \n",
       "..     ...           ...               ...                 ...   \n",
       "655    656         51108             99000                  10   \n",
       "656    657         60732             84000                  10   \n",
       "657    658         53834            145000                   8   \n",
       "658    659         80655            172000                  10   \n",
       "659    660         80150            167000                   9   \n",
       "\n",
       "     Total_visits_bank  Total_visits_online  Total_calls_made  \n",
       "0                    1                    1                 0  \n",
       "1                    0                   10                 9  \n",
       "2                    1                    3                 4  \n",
       "3                    1                    1                 4  \n",
       "4                    0                   12                 3  \n",
       "..                 ...                  ...               ...  \n",
       "655                  1                   10                 0  \n",
       "656                  1                   13                 2  \n",
       "657                  1                    9                 1  \n",
       "658                  1                   15                 0  \n",
       "659                  0                   12                 2  \n",
       "\n",
       "[660 rows x 7 columns]"
      ]
     },
     "execution_count": 33,
     "metadata": {},
     "output_type": "execute_result"
    }
   ],
   "source": [
    "# Drop duplicated keys\n",
    "\n",
    "#data = data.drop(duplicate_keys.index, axis=0)\n",
    "data[data.duplicated()]\n",
    "data"
   ]
  },
  {
   "cell_type": "markdown",
   "metadata": {
    "id": "IDaRoTAQvvPF"
   },
   "source": [
    "We have done some basic checks. Now, let's drop the variables that are not required for our analysis."
   ]
  },
  {
   "cell_type": "code",
   "execution_count": 34,
   "metadata": {
    "id": "albq4GJ2vvPF"
   },
   "outputs": [],
   "source": [
    "data.drop(columns = ['Sl_No', 'Customer Key'], inplace = True)"
   ]
  },
  {
   "cell_type": "markdown",
   "metadata": {
    "id": "fRqvXDr4vvPG"
   },
   "source": [
    "Now that we have dropped unnecessary column. We can again check for duplicates. Duplicates would mean customers with identical features."
   ]
  },
  {
   "cell_type": "code",
   "execution_count": 35,
   "metadata": {
    "id": "J2EV_kXUvvPG",
    "outputId": "c4159aa4-6b34-4677-b600-063d6e13c529"
   },
   "outputs": [
    {
     "data": {
      "text/html": [
       "<div>\n",
       "<style scoped>\n",
       "    .dataframe tbody tr th:only-of-type {\n",
       "        vertical-align: middle;\n",
       "    }\n",
       "\n",
       "    .dataframe tbody tr th {\n",
       "        vertical-align: top;\n",
       "    }\n",
       "\n",
       "    .dataframe thead th {\n",
       "        text-align: right;\n",
       "    }\n",
       "</style>\n",
       "<table border=\"1\" class=\"dataframe\">\n",
       "  <thead>\n",
       "    <tr style=\"text-align: right;\">\n",
       "      <th></th>\n",
       "      <th>Avg_Credit_Limit</th>\n",
       "      <th>Total_Credit_Cards</th>\n",
       "      <th>Total_visits_bank</th>\n",
       "      <th>Total_visits_online</th>\n",
       "      <th>Total_calls_made</th>\n",
       "    </tr>\n",
       "  </thead>\n",
       "  <tbody>\n",
       "    <tr>\n",
       "      <th>162</th>\n",
       "      <td>8000</td>\n",
       "      <td>2</td>\n",
       "      <td>0</td>\n",
       "      <td>3</td>\n",
       "      <td>4</td>\n",
       "    </tr>\n",
       "    <tr>\n",
       "      <th>175</th>\n",
       "      <td>6000</td>\n",
       "      <td>1</td>\n",
       "      <td>0</td>\n",
       "      <td>2</td>\n",
       "      <td>5</td>\n",
       "    </tr>\n",
       "    <tr>\n",
       "      <th>215</th>\n",
       "      <td>8000</td>\n",
       "      <td>4</td>\n",
       "      <td>0</td>\n",
       "      <td>4</td>\n",
       "      <td>7</td>\n",
       "    </tr>\n",
       "    <tr>\n",
       "      <th>295</th>\n",
       "      <td>10000</td>\n",
       "      <td>6</td>\n",
       "      <td>4</td>\n",
       "      <td>2</td>\n",
       "      <td>3</td>\n",
       "    </tr>\n",
       "    <tr>\n",
       "      <th>324</th>\n",
       "      <td>9000</td>\n",
       "      <td>4</td>\n",
       "      <td>5</td>\n",
       "      <td>0</td>\n",
       "      <td>4</td>\n",
       "    </tr>\n",
       "    <tr>\n",
       "      <th>361</th>\n",
       "      <td>18000</td>\n",
       "      <td>6</td>\n",
       "      <td>3</td>\n",
       "      <td>1</td>\n",
       "      <td>4</td>\n",
       "    </tr>\n",
       "    <tr>\n",
       "      <th>378</th>\n",
       "      <td>12000</td>\n",
       "      <td>6</td>\n",
       "      <td>5</td>\n",
       "      <td>2</td>\n",
       "      <td>1</td>\n",
       "    </tr>\n",
       "    <tr>\n",
       "      <th>385</th>\n",
       "      <td>8000</td>\n",
       "      <td>7</td>\n",
       "      <td>4</td>\n",
       "      <td>2</td>\n",
       "      <td>0</td>\n",
       "    </tr>\n",
       "    <tr>\n",
       "      <th>395</th>\n",
       "      <td>5000</td>\n",
       "      <td>4</td>\n",
       "      <td>5</td>\n",
       "      <td>0</td>\n",
       "      <td>1</td>\n",
       "    </tr>\n",
       "    <tr>\n",
       "      <th>455</th>\n",
       "      <td>47000</td>\n",
       "      <td>6</td>\n",
       "      <td>2</td>\n",
       "      <td>0</td>\n",
       "      <td>4</td>\n",
       "    </tr>\n",
       "    <tr>\n",
       "      <th>497</th>\n",
       "      <td>52000</td>\n",
       "      <td>4</td>\n",
       "      <td>2</td>\n",
       "      <td>1</td>\n",
       "      <td>2</td>\n",
       "    </tr>\n",
       "  </tbody>\n",
       "</table>\n",
       "</div>"
      ],
      "text/plain": [
       "     Avg_Credit_Limit  Total_Credit_Cards  Total_visits_bank  \\\n",
       "162              8000                   2                  0   \n",
       "175              6000                   1                  0   \n",
       "215              8000                   4                  0   \n",
       "295             10000                   6                  4   \n",
       "324              9000                   4                  5   \n",
       "361             18000                   6                  3   \n",
       "378             12000                   6                  5   \n",
       "385              8000                   7                  4   \n",
       "395              5000                   4                  5   \n",
       "455             47000                   6                  2   \n",
       "497             52000                   4                  2   \n",
       "\n",
       "     Total_visits_online  Total_calls_made  \n",
       "162                    3                 4  \n",
       "175                    2                 5  \n",
       "215                    4                 7  \n",
       "295                    2                 3  \n",
       "324                    0                 4  \n",
       "361                    1                 4  \n",
       "378                    2                 1  \n",
       "385                    2                 0  \n",
       "395                    0                 1  \n",
       "455                    0                 4  \n",
       "497                    1                 2  "
      ]
     },
     "execution_count": 35,
     "metadata": {},
     "output_type": "execute_result"
    }
   ],
   "source": [
    "data[data.duplicated()]"
   ]
  },
  {
   "cell_type": "markdown",
   "metadata": {
    "id": "V7Xt_Ss3vvPG"
   },
   "source": [
    "We can drop these duplicated rows from the data"
   ]
  },
  {
   "cell_type": "code",
   "execution_count": 37,
   "metadata": {
    "id": "aBnoG0IivvPH"
   },
   "outputs": [],
   "source": [
    "data=data[~data.duplicated()]"
   ]
  },
  {
   "cell_type": "code",
   "execution_count": 38,
   "metadata": {
    "id": "Bgj7fBervvPH",
    "outputId": "7181e588-68b1-4184-ed6c-687d1997dc47"
   },
   "outputs": [
    {
     "data": {
      "text/plain": [
       "(649, 5)"
      ]
     },
     "execution_count": 38,
     "metadata": {},
     "output_type": "execute_result"
    }
   ],
   "source": [
    "data.shape"
   ]
  },
  {
   "cell_type": "markdown",
   "metadata": {
    "id": "JtAIAYr9vvPH"
   },
   "source": [
    "- After removing duplicated keys and rows and unnecessary columns, there are 644 unique observations and 5 columns in our data."
   ]
  },
  {
   "cell_type": "markdown",
   "metadata": {
    "id": "LmykagZ0vvPI"
   },
   "source": [
    "#### Summary Statistics"
   ]
  },
  {
   "cell_type": "markdown",
   "metadata": {
    "id": "PqPGo3N4vvPI"
   },
   "source": [
    "#### **Question 2: Write your observations on the summary statistics of the data (1 Mark)**"
   ]
  },
  {
   "cell_type": "code",
   "execution_count": 39,
   "metadata": {
    "id": "yg-YXbPNvvPI",
    "outputId": "4c9d30bf-f6d2-4922-d340-7db9b8f6ce24"
   },
   "outputs": [
    {
     "data": {
      "text/html": [
       "<div>\n",
       "<style scoped>\n",
       "    .dataframe tbody tr th:only-of-type {\n",
       "        vertical-align: middle;\n",
       "    }\n",
       "\n",
       "    .dataframe tbody tr th {\n",
       "        vertical-align: top;\n",
       "    }\n",
       "\n",
       "    .dataframe thead th {\n",
       "        text-align: right;\n",
       "    }\n",
       "</style>\n",
       "<table border=\"1\" class=\"dataframe\">\n",
       "  <thead>\n",
       "    <tr style=\"text-align: right;\">\n",
       "      <th></th>\n",
       "      <th>count</th>\n",
       "      <th>mean</th>\n",
       "      <th>std</th>\n",
       "      <th>min</th>\n",
       "      <th>25%</th>\n",
       "      <th>50%</th>\n",
       "      <th>75%</th>\n",
       "      <th>max</th>\n",
       "    </tr>\n",
       "  </thead>\n",
       "  <tbody>\n",
       "    <tr>\n",
       "      <th>Avg_Credit_Limit</th>\n",
       "      <td>649.0</td>\n",
       "      <td>34878.274268</td>\n",
       "      <td>37813.736638</td>\n",
       "      <td>3000.0</td>\n",
       "      <td>11000.0</td>\n",
       "      <td>18000.0</td>\n",
       "      <td>49000.0</td>\n",
       "      <td>200000.0</td>\n",
       "    </tr>\n",
       "    <tr>\n",
       "      <th>Total_Credit_Cards</th>\n",
       "      <td>649.0</td>\n",
       "      <td>4.708783</td>\n",
       "      <td>2.173763</td>\n",
       "      <td>1.0</td>\n",
       "      <td>3.0</td>\n",
       "      <td>5.0</td>\n",
       "      <td>6.0</td>\n",
       "      <td>10.0</td>\n",
       "    </tr>\n",
       "    <tr>\n",
       "      <th>Total_visits_bank</th>\n",
       "      <td>649.0</td>\n",
       "      <td>2.397535</td>\n",
       "      <td>1.625148</td>\n",
       "      <td>0.0</td>\n",
       "      <td>1.0</td>\n",
       "      <td>2.0</td>\n",
       "      <td>4.0</td>\n",
       "      <td>5.0</td>\n",
       "    </tr>\n",
       "    <tr>\n",
       "      <th>Total_visits_online</th>\n",
       "      <td>649.0</td>\n",
       "      <td>2.624037</td>\n",
       "      <td>2.952888</td>\n",
       "      <td>0.0</td>\n",
       "      <td>1.0</td>\n",
       "      <td>2.0</td>\n",
       "      <td>4.0</td>\n",
       "      <td>15.0</td>\n",
       "    </tr>\n",
       "    <tr>\n",
       "      <th>Total_calls_made</th>\n",
       "      <td>649.0</td>\n",
       "      <td>3.590139</td>\n",
       "      <td>2.877911</td>\n",
       "      <td>0.0</td>\n",
       "      <td>1.0</td>\n",
       "      <td>3.0</td>\n",
       "      <td>5.0</td>\n",
       "      <td>10.0</td>\n",
       "    </tr>\n",
       "  </tbody>\n",
       "</table>\n",
       "</div>"
      ],
      "text/plain": [
       "                     count          mean           std     min      25%  \\\n",
       "Avg_Credit_Limit     649.0  34878.274268  37813.736638  3000.0  11000.0   \n",
       "Total_Credit_Cards   649.0      4.708783      2.173763     1.0      3.0   \n",
       "Total_visits_bank    649.0      2.397535      1.625148     0.0      1.0   \n",
       "Total_visits_online  649.0      2.624037      2.952888     0.0      1.0   \n",
       "Total_calls_made     649.0      3.590139      2.877911     0.0      1.0   \n",
       "\n",
       "                         50%      75%       max  \n",
       "Avg_Credit_Limit     18000.0  49000.0  200000.0  \n",
       "Total_Credit_Cards       5.0      6.0      10.0  \n",
       "Total_visits_bank        2.0      4.0       5.0  \n",
       "Total_visits_online      2.0      4.0      15.0  \n",
       "Total_calls_made         3.0      5.0      10.0  "
      ]
     },
     "execution_count": 39,
     "metadata": {},
     "output_type": "execute_result"
    }
   ],
   "source": [
    "data.describe().T"
   ]
  },
  {
   "cell_type": "markdown",
   "metadata": {
    "id": "kAEzS8-GvvPI"
   },
   "source": [
    "**Observations:\n",
    "\n",
    "1) The average credit limit has a high range with a min of 3000 and a maximum of 200K with a mean of 34,878. There's high variability in the data.\n",
    "2) Average number of credit cards is around 4 with a maximum of 10 credit cards.\n",
    "3) Customers make more number of calls on an average compared to visiting the bank or online.\n",
    "4) There's lesser variability in the number of visits to the bank compared to visiting online or making phone calls\n",
    "5) There's high variability in the number of visits online with a minumim value of 0 and maximum of 15."
   ]
  },
  {
   "cell_type": "markdown",
   "metadata": {
    "id": "xUxHbmglvvPJ"
   },
   "source": [
    "#### Now let's go ahead with the exploring each variable at hand. We will check the distribution and outliers for each variable in the data."
   ]
  },
  {
   "cell_type": "markdown",
   "metadata": {
    "id": "YM81boKxvvPJ"
   },
   "source": [
    "#### Question 3:\n",
    "- **Check the distribution of all variables (use .hist() attribute) (2 Marks)**\n",
    "- **Check outliers for all variables (use sns.boxplot()) (2 Mark)**\n",
    "- **Write your observations (1 Marks)**"
   ]
  },
  {
   "cell_type": "code",
   "execution_count": 42,
   "metadata": {
    "id": "TmKqRM1JvvPJ"
   },
   "outputs": [
    {
     "name": "stdout",
     "output_type": "stream",
     "text": [
      "Avg_Credit_Limit\n",
      "Skew : 2.19\n"
     ]
    },
    {
     "data": {
      "image/png": "[encoded data removed]",
      "text/plain": [
       "<Figure size 1080x288 with 2 Axes>"
      ]
     },
     "metadata": {
      "needs_background": "light"
     },
     "output_type": "display_data"
    },
    {
     "name": "stdout",
     "output_type": "stream",
     "text": [
      "Total_Credit_Cards\n",
      "Skew : 0.15\n"
     ]
    },
    {
     "data": {
      "image/png": "[encoded data removed]",
      "text/plain": [
       "<Figure size 1080x288 with 2 Axes>"
      ]
     },
     "metadata": {
      "needs_background": "light"
     },
     "output_type": "display_data"
    },
    {
     "name": "stdout",
     "output_type": "stream",
     "text": [
      "Total_visits_bank\n",
      "Skew : 0.15\n"
     ]
    },
    {
     "data": {
      "image/png": "[encoded data removed]",
      "text/plain": [
       "<Figure size 1080x288 with 2 Axes>"
      ]
     },
     "metadata": {
      "needs_background": "light"
     },
     "output_type": "display_data"
    },
    {
     "name": "stdout",
     "output_type": "stream",
     "text": [
      "Total_visits_online\n",
      "Skew : 2.21\n"
     ]
    },
    {
     "data": {
      "image/png": "[encoded data removed]",
      "text/plain": [
       "<Figure size 1080x288 with 2 Axes>"
      ]
     },
     "metadata": {
      "needs_background": "light"
     },
     "output_type": "display_data"
    },
    {
     "name": "stdout",
     "output_type": "stream",
     "text": [
      "Total_calls_made\n",
      "Skew : 0.66\n"
     ]
    },
    {
     "data": {
      "image/png": "[encoded data removed]",
      "text/plain": [
       "<Figure size 1080x288 with 2 Axes>"
      ]
     },
     "metadata": {
      "needs_background": "light"
     },
     "output_type": "display_data"
    }
   ],
   "source": [
    "# Uncomment and complete the code by filling the blanks \n",
    "\n",
    "for col in data.columns:\n",
    "    print(col)\n",
    "    print('Skew :',round(data[col].skew(),2))\n",
    "    plt.figure(figsize=(15,4))\n",
    "    plt.subplot(1,2,1)\n",
    "    data[col].hist(bins=10,grid=False)\n",
    "    plt.ylabel('count')\n",
    "    plt.subplot(1,2,2)\n",
    "    sns.boxplot(x=data[col])\n",
    "    plt.show()"
   ]
  },
  {
   "cell_type": "markdown",
   "metadata": {
    "id": "yuraaJ3wvvPK"
   },
   "source": [
    "**Observation: \n",
    "1. Average credit limit and number of visits online are highly skewed to the right.\n",
    "2. Both variables average credit limit and number of visits online have several outliers on the right.\n",
    "3. Number of credit cards and total visits to the bank are less skewed.\n",
    "4. Total visits online are moderately skewed."
   ]
  },
  {
   "cell_type": "markdown",
   "metadata": {
    "id": "KGeGbF8ovvPK"
   },
   "source": [
    "**Now, let's check the correlation among different variables.**"
   ]
  },
  {
   "cell_type": "code",
   "execution_count": 43,
   "metadata": {
    "id": "-INtorZDvvPK",
    "outputId": "d00ff8b6-82f7-4366-8da6-f61d0e6aabe4"
   },
   "outputs": [
    {
     "data": {
      "image/png": "[encoded data removed]",
      "text/plain": [
       "<Figure size 576x576 with 2 Axes>"
      ]
     },
     "metadata": {
      "needs_background": "light"
     },
     "output_type": "display_data"
    }
   ],
   "source": [
    "plt.figure(figsize=(8,8))\n",
    "sns.heatmap(data.corr(), annot=True, fmt='0.2f')\n",
    "plt.show()"
   ]
  },
  {
   "cell_type": "markdown",
   "metadata": {
    "id": "m_rQynXTvvPL"
   },
   "source": [
    "**Observation:**\n",
    "\n",
    "- Avg_Credit_Limit is positively correlated with Total_Credit_Cards Total_visits_online which can makes sense.\n",
    "- Avg_Credit_Limit is negatively correlated with Total_calls_made and Total_visits_bank.\n",
    "- Total_visits_bank, Total_visits_online, Total_calls_made are negatively correlated which implies that majority of customers use only one of these channels to contact the bank."
   ]
  },
  {
   "cell_type": "markdown",
   "metadata": {
    "id": "XFimA8PUvvPL"
   },
   "source": [
    "#### Scaling the data"
   ]
  },
  {
   "cell_type": "code",
   "execution_count": 44,
   "metadata": {
    "id": "TjqSX-50vvPL"
   },
   "outputs": [],
   "source": [
    "scaler=StandardScaler()\n",
    "data_scaled=pd.DataFrame(scaler.fit_transform(data), columns=data.columns)"
   ]
  },
  {
   "cell_type": "code",
   "execution_count": 45,
   "metadata": {
    "id": "L2cyzdZNvvPM",
    "outputId": "42074a5e-e393-4450-9f1f-75d9be79f194"
   },
   "outputs": [
    {
     "data": {
      "text/html": [
       "<div>\n",
       "<style scoped>\n",
       "    .dataframe tbody tr th:only-of-type {\n",
       "        vertical-align: middle;\n",
       "    }\n",
       "\n",
       "    .dataframe tbody tr th {\n",
       "        vertical-align: top;\n",
       "    }\n",
       "\n",
       "    .dataframe thead th {\n",
       "        text-align: right;\n",
       "    }\n",
       "</style>\n",
       "<table border=\"1\" class=\"dataframe\">\n",
       "  <thead>\n",
       "    <tr style=\"text-align: right;\">\n",
       "      <th></th>\n",
       "      <th>Avg_Credit_Limit</th>\n",
       "      <th>Total_Credit_Cards</th>\n",
       "      <th>Total_visits_bank</th>\n",
       "      <th>Total_visits_online</th>\n",
       "      <th>Total_calls_made</th>\n",
       "    </tr>\n",
       "  </thead>\n",
       "  <tbody>\n",
       "    <tr>\n",
       "      <th>0</th>\n",
       "      <td>1.723499</td>\n",
       "      <td>-1.247087</td>\n",
       "      <td>-0.860606</td>\n",
       "      <td>-0.550407</td>\n",
       "      <td>-1.248443</td>\n",
       "    </tr>\n",
       "    <tr>\n",
       "      <th>1</th>\n",
       "      <td>0.400209</td>\n",
       "      <td>-0.786701</td>\n",
       "      <td>-1.476410</td>\n",
       "      <td>2.499808</td>\n",
       "      <td>1.881237</td>\n",
       "    </tr>\n",
       "    <tr>\n",
       "      <th>2</th>\n",
       "      <td>0.400209</td>\n",
       "      <td>1.054846</td>\n",
       "      <td>-0.860606</td>\n",
       "      <td>0.127419</td>\n",
       "      <td>0.142526</td>\n",
       "    </tr>\n",
       "    <tr>\n",
       "      <th>3</th>\n",
       "      <td>-0.129107</td>\n",
       "      <td>0.134072</td>\n",
       "      <td>-0.860606</td>\n",
       "      <td>-0.550407</td>\n",
       "      <td>0.142526</td>\n",
       "    </tr>\n",
       "    <tr>\n",
       "      <th>4</th>\n",
       "      <td>1.723499</td>\n",
       "      <td>0.594459</td>\n",
       "      <td>-1.476410</td>\n",
       "      <td>3.177634</td>\n",
       "      <td>-0.205216</td>\n",
       "    </tr>\n",
       "  </tbody>\n",
       "</table>\n",
       "</div>"
      ],
      "text/plain": [
       "   Avg_Credit_Limit  Total_Credit_Cards  Total_visits_bank  \\\n",
       "0          1.723499           -1.247087          -0.860606   \n",
       "1          0.400209           -0.786701          -1.476410   \n",
       "2          0.400209            1.054846          -0.860606   \n",
       "3         -0.129107            0.134072          -0.860606   \n",
       "4          1.723499            0.594459          -1.476410   \n",
       "\n",
       "   Total_visits_online  Total_calls_made  \n",
       "0            -0.550407         -1.248443  \n",
       "1             2.499808          1.881237  \n",
       "2             0.127419          0.142526  \n",
       "3            -0.550407          0.142526  \n",
       "4             3.177634         -0.205216  "
      ]
     },
     "execution_count": 45,
     "metadata": {},
     "output_type": "execute_result"
    }
   ],
   "source": [
    "data_scaled.head()"
   ]
  },
  {
   "cell_type": "code",
   "execution_count": 46,
   "metadata": {
    "id": "3ESvHP6SvvPM"
   },
   "outputs": [],
   "source": [
    "#Creating copy of the data to store labels from each algorithm\n",
    "data_scaled_copy = data_scaled.copy(deep=True)"
   ]
  },
  {
   "cell_type": "markdown",
   "metadata": {
    "id": "1lVGJ-HRvvPN"
   },
   "source": [
    "## K-Means"
   ]
  },
  {
   "cell_type": "markdown",
   "metadata": {
    "id": "JCT1SB7_vvPN"
   },
   "source": [
    "Let us now fit k-means algorithm on our scaled data and find out the optimum number of clusters to use.\n",
    "\n",
    "We will do this in 3 steps:\n",
    "1. Initialize a dictionary to store the SSE for each k\n",
    "2. Run for a range of Ks and store SSE for each run\n",
    "3. Plot the SSE vs K and find the elbow"
   ]
  },
  {
   "cell_type": "code",
   "execution_count": 47,
   "metadata": {
    "id": "HkQWkpSovvPN",
    "outputId": "7819694e-9ce6-4ba2-f0bd-8ccd411cb018"
   },
   "outputs": [
    {
     "data": {
      "image/png": "[encoded data removed]",
      "text/plain": [
       "<Figure size 432x288 with 1 Axes>"
      ]
     },
     "metadata": {
      "needs_background": "light"
     },
     "output_type": "display_data"
    }
   ],
   "source": [
    "# step 1\n",
    "sse = {} \n",
    "\n",
    "# step 2 - iterate for a range of Ks and fit the scaled data to the algorithm. Use inertia attribute from the clustering object and \n",
    "# store the inertia value for that k \n",
    "for k in range(1, 10):\n",
    "    kmeans = KMeans(n_clusters=k, max_iter=1000, random_state=1).fit(data_scaled)\n",
    "    sse[k] = kmeans.inertia_\n",
    "\n",
    "# step 3\n",
    "plt.figure()\n",
    "plt.plot(list(sse.keys()), list(sse.values()), 'bx-')\n",
    "plt.xlabel(\"Number of cluster\")\n",
    "plt.ylabel(\"SSE\")\n",
    "plt.show()"
   ]
  },
  {
   "cell_type": "markdown",
   "metadata": {
    "id": "wYIbRxO2vvPO"
   },
   "source": [
    "- Looking at the plot, we can say that elbow point is achieved for k=3.\n",
    "- We will fit the k-means again with k=3 to get the labels."
   ]
  },
  {
   "cell_type": "markdown",
   "metadata": {
    "id": "mYdAYWNNvvPO"
   },
   "source": [
    "#### Question 4: \n",
    "\n",
    "- **From the above elbow plot, state the reason for choosing k=3 and with random_state=1(1 Mark)**\n",
    "- **Fit the K-means algorithms on the scaled data with number of cluster equal to 3 (2 Mark)**\n",
    "- **Store the predictions as 'Labels' to the 'data_scaled_copy' and 'data' dataframes (2 Marks)**"
   ]
  },
  {
   "cell_type": "code",
   "execution_count": 49,
   "metadata": {
    "id": "bkeg6XsBvvPO"
   },
   "outputs": [],
   "source": [
    "## answer - The optimal number of cluster is determined at the elbow point of the plot \n",
    "# between k - number of clusters and sse (sum of squared error). Hence k=3. The sse value\n",
    "# flattens after this k value.\n",
    "\n",
    "kmeans = KMeans(n_clusters=3, random_state=1) #Apply the K-Means algorithm\n",
    "kmeans.fit(data_scaled) #Fit the kmeans function on the scaled data\n",
    "\n",
    "#Adding predicted labels to the original data and scaled data \n",
    "data_scaled_copy['Labels'] = kmeans.predict(data_scaled) #Save the predictions on the scaled data from K-Means\n",
    "data['Labels'] = kmeans.predict(data_scaled) #Save the predictions on the scaled data from K-Means"
   ]
  },
  {
   "cell_type": "markdown",
   "metadata": {
    "id": "9SPMPRF1vvPP"
   },
   "source": [
    "We have generated the labels with k-means. Let us look at the various features based on the labels."
   ]
  },
  {
   "cell_type": "markdown",
   "metadata": {
    "id": "tuLEkmr1vvPQ"
   },
   "source": [
    "#### **Question 5: Create cluster profiles using the below summary statistics and box plots for each label (6 Marks)**"
   ]
  },
  {
   "cell_type": "code",
   "execution_count": 50,
   "metadata": {
    "id": "DDqfjsfl2lew",
    "outputId": "a60da3e1-8312-4b0c-a0ab-54b41b8d86a1"
   },
   "outputs": [
    {
     "data": {
      "text/plain": [
       "1    378\n",
       "0    221\n",
       "2     50\n",
       "Name: Labels, dtype: int64"
      ]
     },
     "execution_count": 50,
     "metadata": {},
     "output_type": "execute_result"
    }
   ],
   "source": [
    "#Number of observations in each cluster\n",
    "data.Labels.value_counts()"
   ]
  },
  {
   "cell_type": "code",
   "execution_count": 51,
   "metadata": {
    "id": "eu7EO0nn2lex",
    "outputId": "0716f626-abf8-435a-878d-f2bd73409fd9"
   },
   "outputs": [
    {
     "data": {
      "text/html": [
       "<div>\n",
       "<style scoped>\n",
       "    .dataframe tbody tr th:only-of-type {\n",
       "        vertical-align: middle;\n",
       "    }\n",
       "\n",
       "    .dataframe tbody tr th {\n",
       "        vertical-align: top;\n",
       "    }\n",
       "\n",
       "    .dataframe thead th {\n",
       "        text-align: right;\n",
       "    }\n",
       "</style>\n",
       "<table border=\"1\" class=\"dataframe\">\n",
       "  <thead>\n",
       "    <tr style=\"text-align: right;\">\n",
       "      <th></th>\n",
       "      <th>group_0 Mean</th>\n",
       "      <th>group_1 Mean</th>\n",
       "      <th>group_2 Mean</th>\n",
       "      <th>group_0 Median</th>\n",
       "      <th>group_1 Median</th>\n",
       "      <th>group_2 Median</th>\n",
       "    </tr>\n",
       "  </thead>\n",
       "  <tbody>\n",
       "    <tr>\n",
       "      <th>Avg_Credit_Limit</th>\n",
       "      <td>12239.819005</td>\n",
       "      <td>34071.428571</td>\n",
       "      <td>141040.00</td>\n",
       "      <td>12000.0</td>\n",
       "      <td>32000.0</td>\n",
       "      <td>145500.0</td>\n",
       "    </tr>\n",
       "    <tr>\n",
       "      <th>Total_Credit_Cards</th>\n",
       "      <td>2.411765</td>\n",
       "      <td>5.518519</td>\n",
       "      <td>8.74</td>\n",
       "      <td>2.0</td>\n",
       "      <td>6.0</td>\n",
       "      <td>9.0</td>\n",
       "    </tr>\n",
       "    <tr>\n",
       "      <th>Total_visits_bank</th>\n",
       "      <td>0.945701</td>\n",
       "      <td>3.484127</td>\n",
       "      <td>0.60</td>\n",
       "      <td>1.0</td>\n",
       "      <td>3.0</td>\n",
       "      <td>1.0</td>\n",
       "    </tr>\n",
       "    <tr>\n",
       "      <th>Total_visits_online</th>\n",
       "      <td>3.561086</td>\n",
       "      <td>0.981481</td>\n",
       "      <td>10.90</td>\n",
       "      <td>4.0</td>\n",
       "      <td>1.0</td>\n",
       "      <td>11.0</td>\n",
       "    </tr>\n",
       "    <tr>\n",
       "      <th>Total_calls_made</th>\n",
       "      <td>6.891403</td>\n",
       "      <td>1.992063</td>\n",
       "      <td>1.08</td>\n",
       "      <td>7.0</td>\n",
       "      <td>2.0</td>\n",
       "      <td>1.0</td>\n",
       "    </tr>\n",
       "  </tbody>\n",
       "</table>\n",
       "</div>"
      ],
      "text/plain": [
       "                     group_0 Mean  group_1 Mean  group_2 Mean  group_0 Median  \\\n",
       "Avg_Credit_Limit     12239.819005  34071.428571     141040.00         12000.0   \n",
       "Total_Credit_Cards       2.411765      5.518519          8.74             2.0   \n",
       "Total_visits_bank        0.945701      3.484127          0.60             1.0   \n",
       "Total_visits_online      3.561086      0.981481         10.90             4.0   \n",
       "Total_calls_made         6.891403      1.992063          1.08             7.0   \n",
       "\n",
       "                     group_1 Median  group_2 Median  \n",
       "Avg_Credit_Limit            32000.0        145500.0  \n",
       "Total_Credit_Cards              6.0             9.0  \n",
       "Total_visits_bank               3.0             1.0  \n",
       "Total_visits_online             1.0            11.0  \n",
       "Total_calls_made                2.0             1.0  "
      ]
     },
     "execution_count": 51,
     "metadata": {},
     "output_type": "execute_result"
    }
   ],
   "source": [
    "#Calculating summary statistics of the original data for each label\n",
    "mean = data.groupby('Labels').mean()\n",
    "median = data.groupby('Labels').median()\n",
    "df_kmeans = pd.concat([mean, median], axis=0)\n",
    "df_kmeans.index = ['group_0 Mean', 'group_1 Mean', 'group_2 Mean', 'group_0 Median', 'group_1 Median', 'group_2 Median']\n",
    "df_kmeans.T"
   ]
  },
  {
   "cell_type": "code",
   "execution_count": 52,
   "metadata": {
    "id": "bTnGIXvWvvPQ",
    "outputId": "fb854446-d8c0-4254-8b7c-d82ca540226b"
   },
   "outputs": [
    {
     "data": {
      "image/png": "[encoded data removed]",
      "text/plain": [
       "<Figure size 1440x504 with 5 Axes>"
      ]
     },
     "metadata": {
      "needs_background": "light"
     },
     "output_type": "display_data"
    }
   ],
   "source": [
    "#Visualizing different features w.r.t K-means labels\n",
    "data_scaled_copy.boxplot(by = 'Labels', layout = (1,5),figsize=(20,7))\n",
    "plt.show()"
   ]
  },
  {
   "cell_type": "markdown",
   "metadata": {
    "id": "nadx5OyGvvPR"
   },
   "source": [
    "**Cluster Profiles:\n",
    "\n",
    "1) Group 2 looks like customers with high credit limit. Group 1 customers are ones with average credit limit. Group 0 is with low credit limit.\n",
    "2) Average number of credit cards is high with for customers with high credit limit and lower for customers with low credit limit.\n",
    "3) Group 2 customers prefers to do transactions online compared to visiting the bank of making phone calls. Followed by Group 0 customers and then last Group 1 customers.\n",
    "4) Group 0 - Customers with low credit limit prefers to make phone calls compared to other groups 1 & 2.\n",
    "5) Group 1 customers prefers to visit the bank compared to Group 0 and 2 customers\n",
    "\n"
   ]
  },
  {
   "cell_type": "markdown",
   "metadata": {
    "id": "B02j8pGUvvPS"
   },
   "source": [
    "## Gaussian Mixture"
   ]
  },
  {
   "cell_type": "markdown",
   "metadata": {
    "id": "qYBGfwaVvvPS"
   },
   "source": [
    "Let's create clusters using Gaussian Mixture Models"
   ]
  },
  {
   "cell_type": "markdown",
   "metadata": {
    "id": "r0N7Ss06vvPS"
   },
   "source": [
    "#### Question 6: \n",
    "\n",
    "- **Apply the Gaussian Mixture algorithm on the scaled data with random_state=1 (2 Marks)** \n",
    "- **Create cluster profiles using the below summary statistics and box plots for each label (2 Marks)**\n",
    "- **Compare the clusters from both algorithms - K-means and Gaussian Mixture (1 Mark)**"
   ]
  },
  {
   "cell_type": "code",
   "execution_count": 53,
   "metadata": {
    "id": "fBHzul_PvvPS"
   },
   "outputs": [],
   "source": [
    "gmm = GaussianMixture(n_components=3, random_state=1) #Apply the Gaussian Mixture algorithm\n",
    "gmm.fit(data_scaled) #Fit the gmm function on the scaled data\n",
    "\n",
    "data_scaled_copy['GmmLabels'] = gmm.predict(data_scaled)\n",
    "data['GmmLabels'] = gmm.predict(data_scaled)"
   ]
  },
  {
   "cell_type": "code",
   "execution_count": 54,
   "metadata": {
    "id": "vBtCZOQB2ley",
    "outputId": "aa7194db-946b-48d4-9717-4eca8dff43eb"
   },
   "outputs": [
    {
     "data": {
      "text/plain": [
       "1    378\n",
       "0    221\n",
       "2     50\n",
       "Name: GmmLabels, dtype: int64"
      ]
     },
     "execution_count": 54,
     "metadata": {},
     "output_type": "execute_result"
    }
   ],
   "source": [
    "#Number of observations in each cluster\n",
    "data.GmmLabels.value_counts()"
   ]
  },
  {
   "cell_type": "code",
   "execution_count": 55,
   "metadata": {
    "id": "m21wTqIgvvPT",
    "outputId": "ae29c6fb-918e-42cb-a6d8-4555f3e69df4"
   },
   "outputs": [
    {
     "data": {
      "text/html": [
       "<div>\n",
       "<style scoped>\n",
       "    .dataframe tbody tr th:only-of-type {\n",
       "        vertical-align: middle;\n",
       "    }\n",
       "\n",
       "    .dataframe tbody tr th {\n",
       "        vertical-align: top;\n",
       "    }\n",
       "\n",
       "    .dataframe thead th {\n",
       "        text-align: right;\n",
       "    }\n",
       "</style>\n",
       "<table border=\"1\" class=\"dataframe\">\n",
       "  <thead>\n",
       "    <tr style=\"text-align: right;\">\n",
       "      <th></th>\n",
       "      <th>group_0 Mean</th>\n",
       "      <th>group_1 Mean</th>\n",
       "      <th>group_2 Mean</th>\n",
       "      <th>group_0 Median</th>\n",
       "      <th>group_1 Median</th>\n",
       "      <th>group_2 Median</th>\n",
       "    </tr>\n",
       "  </thead>\n",
       "  <tbody>\n",
       "    <tr>\n",
       "      <th>Avg_Credit_Limit</th>\n",
       "      <td>12239.819005</td>\n",
       "      <td>34071.428571</td>\n",
       "      <td>141040.00</td>\n",
       "      <td>12000.0</td>\n",
       "      <td>32000.0</td>\n",
       "      <td>145500.0</td>\n",
       "    </tr>\n",
       "    <tr>\n",
       "      <th>Total_Credit_Cards</th>\n",
       "      <td>2.411765</td>\n",
       "      <td>5.518519</td>\n",
       "      <td>8.74</td>\n",
       "      <td>2.0</td>\n",
       "      <td>6.0</td>\n",
       "      <td>9.0</td>\n",
       "    </tr>\n",
       "    <tr>\n",
       "      <th>Total_visits_bank</th>\n",
       "      <td>0.945701</td>\n",
       "      <td>3.484127</td>\n",
       "      <td>0.60</td>\n",
       "      <td>1.0</td>\n",
       "      <td>3.0</td>\n",
       "      <td>1.0</td>\n",
       "    </tr>\n",
       "    <tr>\n",
       "      <th>Total_visits_online</th>\n",
       "      <td>3.561086</td>\n",
       "      <td>0.981481</td>\n",
       "      <td>10.90</td>\n",
       "      <td>4.0</td>\n",
       "      <td>1.0</td>\n",
       "      <td>11.0</td>\n",
       "    </tr>\n",
       "    <tr>\n",
       "      <th>Total_calls_made</th>\n",
       "      <td>6.891403</td>\n",
       "      <td>1.992063</td>\n",
       "      <td>1.08</td>\n",
       "      <td>7.0</td>\n",
       "      <td>2.0</td>\n",
       "      <td>1.0</td>\n",
       "    </tr>\n",
       "  </tbody>\n",
       "</table>\n",
       "</div>"
      ],
      "text/plain": [
       "                     group_0 Mean  group_1 Mean  group_2 Mean  group_0 Median  \\\n",
       "Avg_Credit_Limit     12239.819005  34071.428571     141040.00         12000.0   \n",
       "Total_Credit_Cards       2.411765      5.518519          8.74             2.0   \n",
       "Total_visits_bank        0.945701      3.484127          0.60             1.0   \n",
       "Total_visits_online      3.561086      0.981481         10.90             4.0   \n",
       "Total_calls_made         6.891403      1.992063          1.08             7.0   \n",
       "\n",
       "                     group_1 Median  group_2 Median  \n",
       "Avg_Credit_Limit            32000.0        145500.0  \n",
       "Total_Credit_Cards              6.0             9.0  \n",
       "Total_visits_bank               3.0             1.0  \n",
       "Total_visits_online             1.0            11.0  \n",
       "Total_calls_made                2.0             1.0  "
      ]
     },
     "execution_count": 55,
     "metadata": {},
     "output_type": "execute_result"
    }
   ],
   "source": [
    "#Calculating summary statistics of the original data for each label\n",
    "original_features = [\"Avg_Credit_Limit\",\"Total_Credit_Cards\",\"Total_visits_bank\",\"Total_visits_online\",\"Total_calls_made\"]\n",
    "\n",
    "mean = data.groupby('GmmLabels').mean()\n",
    "median = data.groupby('GmmLabels').median()\n",
    "df_gmm = pd.concat([mean, median], axis=0)\n",
    "df_gmm.index = ['group_0 Mean', 'group_1 Mean', 'group_2 Mean', 'group_0 Median', 'group_1 Median', 'group_2 Median']\n",
    "df_gmm[original_features].T"
   ]
  },
  {
   "cell_type": "code",
   "execution_count": 56,
   "metadata": {
    "id": "CuJf3MeOvvPT",
    "outputId": "7dee619e-e69b-4586-82ab-f6635fda21a0"
   },
   "outputs": [
    {
     "data": {
      "image/png": "[encoded data removed]",
      "text/plain": [
       "<Figure size 1440x504 with 5 Axes>"
      ]
     },
     "metadata": {
      "needs_background": "light"
     },
     "output_type": "display_data"
    }
   ],
   "source": [
    "# plotting boxplots with the new GMM based labels\n",
    "\n",
    "features_with_lables = [\"Avg_Credit_Limit\",\"Total_Credit_Cards\",\"Total_visits_bank\",\"Total_visits_online\",\"Total_calls_made\",\"GmmLabels\"]\n",
    "\n",
    "data_scaled_copy[features_with_lables].boxplot(by = 'GmmLabels', layout = (1,5),figsize=(20,7))\n",
    "plt.show()"
   ]
  },
  {
   "cell_type": "markdown",
   "metadata": {
    "id": "EHA5nl2yvvPU"
   },
   "source": [
    "**Cluster Profiles:\n",
    "1) Group 2 is a cluster of high income, high credit average group of people. \n",
    "2) Group 1 is medium income, credit limit and Group 0 is at the lower end. The number of visits online is also consistent with the K-means clustering that it's high with high income and low income group of people but low with the Group 1 cluster.\n",
    "\n",
    "**Comparing Clusters: \n",
    "1) Cluster characteristics between K-means and GMM are exactly the same. The median credit limit for Group 2 is close to 5 times more than the Group 1 cluster. \n",
    "2) But the Group 1 and Group 0 cluster median value is close to each other. \n",
    "3) Also the number of observations in Group 2 cluster is only 5 compared to Group 0 and 1 which is 4-6 times more (220-360). Group 0 must contain very very high income group of people with a really high income and low risk profile."
   ]
  },
  {
   "cell_type": "markdown",
   "metadata": {
    "id": "ixzPPJG6vvPV"
   },
   "source": [
    "## K-Medoids"
   ]
  },
  {
   "cell_type": "markdown",
   "metadata": {
    "id": "PpPxOxvmvvPW"
   },
   "source": [
    "#### Question 7: \n",
    "\n",
    "- **Apply the K-Mediods on the scaled data with random_state=1 (2 Marks)** \n",
    "- **Create cluster profiles using the below summary statistics and box plots for each label (2 Marks)**\n",
    "- **Compare the clusters from both algorithms - K-Means and K-Medoids (2 Marks)**"
   ]
  },
  {
   "cell_type": "code",
   "execution_count": 60,
   "metadata": {
    "id": "UxuTu1JF48hA"
   },
   "outputs": [],
   "source": [
    "#! pip install scikit-learn-extra\n",
    "from sklearn_extra.cluster import KMedoids\n",
    "\n",
    "kmedo = KMedoids(n_clusters=3, random_state=1) #Apply the K-Medoids algorithm\n",
    "kmedo.fit(data_scaled) #Fit the kmedo function on the scaled data\n",
    "\n",
    "data_scaled_copy['kmedoLabels'] = kmedo.predict(data_scaled)\n",
    "data['kmedoLabels'] = kmedo.predict(data_scaled)"
   ]
  },
  {
   "cell_type": "code",
   "execution_count": 61,
   "metadata": {
    "id": "9t6hVMWs2lez",
    "outputId": "bd84b129-be61-45e3-b8e0-8428caa91e78"
   },
   "outputs": [
    {
     "data": {
      "text/plain": [
       "2    273\n",
       "0    221\n",
       "1    155\n",
       "Name: kmedoLabels, dtype: int64"
      ]
     },
     "execution_count": 61,
     "metadata": {},
     "output_type": "execute_result"
    }
   ],
   "source": [
    "#Number of observations in each cluster\n",
    "data.kmedoLabels.value_counts()"
   ]
  },
  {
   "cell_type": "code",
   "execution_count": 62,
   "metadata": {
    "id": "FvKJ9rrzvvPW",
    "outputId": "c8f9fc4d-86c7-4d33-d2de-aaaba2f84d0f"
   },
   "outputs": [
    {
     "data": {
      "text/html": [
       "<div>\n",
       "<style scoped>\n",
       "    .dataframe tbody tr th:only-of-type {\n",
       "        vertical-align: middle;\n",
       "    }\n",
       "\n",
       "    .dataframe tbody tr th {\n",
       "        vertical-align: top;\n",
       "    }\n",
       "\n",
       "    .dataframe thead th {\n",
       "        text-align: right;\n",
       "    }\n",
       "</style>\n",
       "<table border=\"1\" class=\"dataframe\">\n",
       "  <thead>\n",
       "    <tr style=\"text-align: right;\">\n",
       "      <th></th>\n",
       "      <th>group_0 Mean</th>\n",
       "      <th>group_1 Mean</th>\n",
       "      <th>group_2 Mean</th>\n",
       "      <th>group_0 Median</th>\n",
       "      <th>group_1 Median</th>\n",
       "      <th>group_2 Median</th>\n",
       "    </tr>\n",
       "  </thead>\n",
       "  <tbody>\n",
       "    <tr>\n",
       "      <th>Avg_Credit_Limit</th>\n",
       "      <td>12203.619910</td>\n",
       "      <td>80625.806452</td>\n",
       "      <td>27260.073260</td>\n",
       "      <td>12000.0</td>\n",
       "      <td>66000.0</td>\n",
       "      <td>19000.0</td>\n",
       "    </tr>\n",
       "    <tr>\n",
       "      <th>Total_Credit_Cards</th>\n",
       "      <td>2.420814</td>\n",
       "      <td>6.741935</td>\n",
       "      <td>5.406593</td>\n",
       "      <td>2.0</td>\n",
       "      <td>7.0</td>\n",
       "      <td>6.0</td>\n",
       "    </tr>\n",
       "    <tr>\n",
       "      <th>Total_visits_bank</th>\n",
       "      <td>0.954751</td>\n",
       "      <td>1.800000</td>\n",
       "      <td>3.904762</td>\n",
       "      <td>1.0</td>\n",
       "      <td>2.0</td>\n",
       "      <td>4.0</td>\n",
       "    </tr>\n",
       "    <tr>\n",
       "      <th>Total_visits_online</th>\n",
       "      <td>3.565611</td>\n",
       "      <td>4.187097</td>\n",
       "      <td>0.974359</td>\n",
       "      <td>4.0</td>\n",
       "      <td>2.0</td>\n",
       "      <td>1.0</td>\n",
       "    </tr>\n",
       "    <tr>\n",
       "      <th>Total_calls_made</th>\n",
       "      <td>6.904977</td>\n",
       "      <td>2.006452</td>\n",
       "      <td>1.805861</td>\n",
       "      <td>7.0</td>\n",
       "      <td>2.0</td>\n",
       "      <td>2.0</td>\n",
       "    </tr>\n",
       "  </tbody>\n",
       "</table>\n",
       "</div>"
      ],
      "text/plain": [
       "                     group_0 Mean  group_1 Mean  group_2 Mean  group_0 Median  \\\n",
       "Avg_Credit_Limit     12203.619910  80625.806452  27260.073260         12000.0   \n",
       "Total_Credit_Cards       2.420814      6.741935      5.406593             2.0   \n",
       "Total_visits_bank        0.954751      1.800000      3.904762             1.0   \n",
       "Total_visits_online      3.565611      4.187097      0.974359             4.0   \n",
       "Total_calls_made         6.904977      2.006452      1.805861             7.0   \n",
       "\n",
       "                     group_1 Median  group_2 Median  \n",
       "Avg_Credit_Limit            66000.0         19000.0  \n",
       "Total_Credit_Cards              7.0             6.0  \n",
       "Total_visits_bank               2.0             4.0  \n",
       "Total_visits_online             2.0             1.0  \n",
       "Total_calls_made                2.0             2.0  "
      ]
     },
     "execution_count": 62,
     "metadata": {},
     "output_type": "execute_result"
    }
   ],
   "source": [
    "#Calculating summary statistics of the original data for each label\n",
    "mean = data.groupby('kmedoLabels').mean()\n",
    "median = data.groupby('kmedoLabels').median()\n",
    "df_kmedoids = pd.concat([mean, median], axis=0)\n",
    "df_kmedoids.index = ['group_0 Mean', 'group_1 Mean', 'group_2 Mean', 'group_0 Median', 'group_1 Median', 'group_2 Median']\n",
    "df_kmedoids[original_features].T"
   ]
  },
  {
   "cell_type": "code",
   "execution_count": 65,
   "metadata": {
    "id": "eWdxV2rLvvPX",
    "outputId": "c93561c9-22a3-4181-a2c3-b2b473099d25"
   },
   "outputs": [
    {
     "data": {
      "image/png": "[encoded data removed]",
      "text/plain": [
       "<Figure size 1440x504 with 5 Axes>"
      ]
     },
     "metadata": {
      "needs_background": "light"
     },
     "output_type": "display_data"
    }
   ],
   "source": [
    "#plotting boxplots with the new K-Medoids based labels\n",
    "\n",
    "features_with_lables = [\"Avg_Credit_Limit\",\t\"Total_Credit_Cards\",\"Total_visits_bank\",\"Total_visits_online\",\"Total_calls_made\",\"kmedoLabels\"]\n",
    "\n",
    "data_scaled_copy[features_with_lables].boxplot(by = 'kmedoLabels', layout = (1,5),figsize=(20,7))\n",
    "plt.show()"
   ]
  },
  {
   "cell_type": "markdown",
   "metadata": {
    "id": "B_MtSZkr2le0"
   },
   "source": [
    "Let's compare the clusters from K-Means and K-Medoids "
   ]
  },
  {
   "cell_type": "code",
   "execution_count": 66,
   "metadata": {
    "id": "l1gebsJ_2le0",
    "outputId": "288db421-b425-4f7f-ea68-7ab9d067250c"
   },
   "outputs": [
    {
     "data": {
      "text/html": [
       "<div>\n",
       "<style scoped>\n",
       "    .dataframe tbody tr th:only-of-type {\n",
       "        vertical-align: middle;\n",
       "    }\n",
       "\n",
       "    .dataframe tbody tr th {\n",
       "        vertical-align: top;\n",
       "    }\n",
       "\n",
       "    .dataframe thead th {\n",
       "        text-align: right;\n",
       "    }\n",
       "</style>\n",
       "<table border=\"1\" class=\"dataframe\">\n",
       "  <thead>\n",
       "    <tr style=\"text-align: right;\">\n",
       "      <th></th>\n",
       "      <th>Avg_Credit_Limit</th>\n",
       "      <th>Avg_Credit_Limit</th>\n",
       "      <th>Total_Credit_Cards</th>\n",
       "      <th>Total_Credit_Cards</th>\n",
       "      <th>Total_visits_bank</th>\n",
       "      <th>Total_visits_bank</th>\n",
       "      <th>Total_visits_online</th>\n",
       "      <th>Total_visits_online</th>\n",
       "      <th>Total_calls_made</th>\n",
       "      <th>Total_calls_made</th>\n",
       "    </tr>\n",
       "  </thead>\n",
       "  <tbody>\n",
       "    <tr>\n",
       "      <th>group_0 Mean</th>\n",
       "      <td>12203.619910</td>\n",
       "      <td>12239.819005</td>\n",
       "      <td>2.420814</td>\n",
       "      <td>2.411765</td>\n",
       "      <td>0.954751</td>\n",
       "      <td>0.945701</td>\n",
       "      <td>3.565611</td>\n",
       "      <td>3.561086</td>\n",
       "      <td>6.904977</td>\n",
       "      <td>6.891403</td>\n",
       "    </tr>\n",
       "    <tr>\n",
       "      <th>group_1 Mean</th>\n",
       "      <td>80625.806452</td>\n",
       "      <td>34071.428571</td>\n",
       "      <td>6.741935</td>\n",
       "      <td>5.518519</td>\n",
       "      <td>1.800000</td>\n",
       "      <td>3.484127</td>\n",
       "      <td>4.187097</td>\n",
       "      <td>0.981481</td>\n",
       "      <td>2.006452</td>\n",
       "      <td>1.992063</td>\n",
       "    </tr>\n",
       "    <tr>\n",
       "      <th>group_2 Mean</th>\n",
       "      <td>27260.073260</td>\n",
       "      <td>141040.000000</td>\n",
       "      <td>5.406593</td>\n",
       "      <td>8.740000</td>\n",
       "      <td>3.904762</td>\n",
       "      <td>0.600000</td>\n",
       "      <td>0.974359</td>\n",
       "      <td>10.900000</td>\n",
       "      <td>1.805861</td>\n",
       "      <td>1.080000</td>\n",
       "    </tr>\n",
       "    <tr>\n",
       "      <th>group_0 Median</th>\n",
       "      <td>12000.000000</td>\n",
       "      <td>12000.000000</td>\n",
       "      <td>2.000000</td>\n",
       "      <td>2.000000</td>\n",
       "      <td>1.000000</td>\n",
       "      <td>1.000000</td>\n",
       "      <td>4.000000</td>\n",
       "      <td>4.000000</td>\n",
       "      <td>7.000000</td>\n",
       "      <td>7.000000</td>\n",
       "    </tr>\n",
       "    <tr>\n",
       "      <th>group_1 Median</th>\n",
       "      <td>66000.000000</td>\n",
       "      <td>32000.000000</td>\n",
       "      <td>7.000000</td>\n",
       "      <td>6.000000</td>\n",
       "      <td>2.000000</td>\n",
       "      <td>3.000000</td>\n",
       "      <td>2.000000</td>\n",
       "      <td>1.000000</td>\n",
       "      <td>2.000000</td>\n",
       "      <td>2.000000</td>\n",
       "    </tr>\n",
       "    <tr>\n",
       "      <th>group_2 Median</th>\n",
       "      <td>19000.000000</td>\n",
       "      <td>145500.000000</td>\n",
       "      <td>6.000000</td>\n",
       "      <td>9.000000</td>\n",
       "      <td>4.000000</td>\n",
       "      <td>1.000000</td>\n",
       "      <td>1.000000</td>\n",
       "      <td>11.000000</td>\n",
       "      <td>2.000000</td>\n",
       "      <td>1.000000</td>\n",
       "    </tr>\n",
       "  </tbody>\n",
       "</table>\n",
       "</div>"
      ],
      "text/plain": [
       "                Avg_Credit_Limit  Avg_Credit_Limit  Total_Credit_Cards  \\\n",
       "group_0 Mean        12203.619910      12239.819005            2.420814   \n",
       "group_1 Mean        80625.806452      34071.428571            6.741935   \n",
       "group_2 Mean        27260.073260     141040.000000            5.406593   \n",
       "group_0 Median      12000.000000      12000.000000            2.000000   \n",
       "group_1 Median      66000.000000      32000.000000            7.000000   \n",
       "group_2 Median      19000.000000     145500.000000            6.000000   \n",
       "\n",
       "                Total_Credit_Cards  Total_visits_bank  Total_visits_bank  \\\n",
       "group_0 Mean              2.411765           0.954751           0.945701   \n",
       "group_1 Mean              5.518519           1.800000           3.484127   \n",
       "group_2 Mean              8.740000           3.904762           0.600000   \n",
       "group_0 Median            2.000000           1.000000           1.000000   \n",
       "group_1 Median            6.000000           2.000000           3.000000   \n",
       "group_2 Median            9.000000           4.000000           1.000000   \n",
       "\n",
       "                Total_visits_online  Total_visits_online  Total_calls_made  \\\n",
       "group_0 Mean               3.565611             3.561086          6.904977   \n",
       "group_1 Mean               4.187097             0.981481          2.006452   \n",
       "group_2 Mean               0.974359            10.900000          1.805861   \n",
       "group_0 Median             4.000000             4.000000          7.000000   \n",
       "group_1 Median             2.000000             1.000000          2.000000   \n",
       "group_2 Median             1.000000            11.000000          2.000000   \n",
       "\n",
       "                Total_calls_made  \n",
       "group_0 Mean            6.891403  \n",
       "group_1 Mean            1.992063  \n",
       "group_2 Mean            1.080000  \n",
       "group_0 Median          7.000000  \n",
       "group_1 Median          2.000000  \n",
       "group_2 Median          1.000000  "
      ]
     },
     "execution_count": 66,
     "metadata": {},
     "output_type": "execute_result"
    }
   ],
   "source": [
    "comparison = pd.concat([df_kmedoids, df_kmeans], axis=1)[original_features]\n",
    "comparison"
   ]
  },
  {
   "cell_type": "markdown",
   "metadata": {
    "id": "iuNbMOGKvvPY"
   },
   "source": [
    "**Cluster Profiles:\n",
    "1) K-Medoids cluster seems to have Group 1 as high-income, credit limit customers. It has also few outliers as the median value is lower and the box didn't include the outliers.\n",
    "2) Group 1 has outlier on the lower end in the total number of credit cards.\n",
    "3) The box/cluster for total visits online for Group 1 customers is much larger spread and has no outliers.\n",
    "4) The total number of calls made seems to have same median between Group 1 and 2.\n",
    "**\n",
    "\n",
    "**Comparing Clusters:\n",
    "1) Though the low-income Group 0 cluster are very similarly distributed between K-means and K-medoids, Group 1 and Group 2 are very differently distributed.\n",
    "2) (high-income group) average credit limit mean is very high in K-means with no outliers but in K-medoids has a relatively low mean with a few outliers.\n",
    "3) The mid-income group mean is also differently distributed between K-means and K-medoids.\n",
    "4) Total number of credit cards mean value remains the same between Low and Mid Income between the 2 clusters. But the high income distribution is slightly different as K-means has a higher mean value.\n",
    "5) Low and High Income customers seem to prefer to use online method more than the bank visit or customer calls between both clustering method.\n"
   ]
  }
 ],
 "metadata": {
  "colab": {
   "collapsed_sections": [],
   "name": "Learner_Notebook_Unsupervised_Learning_Project.ipynb",
   "provenance": []
  },
  "kernelspec": {
   "display_name": "Python 3",
   "language": "python",
   "name": "python3"
  },
  "language_info": {
   "codemirror_mode": {
    "name": "ipython",
    "version": 3
   },
   "file_extension": ".py",
   "mimetype": "text/x-python",
   "name": "python",
   "nbconvert_exporter": "python",
   "pygments_lexer": "ipython3",
   "version": "3.8.8"
  }
 },
 "nbformat": 4,
 "nbformat_minor": 4
}
